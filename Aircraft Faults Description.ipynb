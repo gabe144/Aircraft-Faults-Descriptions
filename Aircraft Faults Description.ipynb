{
 "cells": [
  {
   "cell_type": "markdown",
   "metadata": {},
   "source": [
    "# Predicting the criticality of a aircraft fault by description #"
   ]
  },
  {
   "cell_type": "markdown",
   "metadata": {},
   "source": [
    "## Introduction ##"
   ]
  },
  {
   "cell_type": "markdown",
   "metadata": {},
   "source": [
    "This data set contains information of all corrective actions that were opened in a brazilian aircraft fleet between 2018 and 2019. I approach one question regarding if it’s possible to predict the criticality of a fault by the description provided by the person that had opened the fault. To answer this question I will use the bag of words method and machine learning models."
   ]
  },
  {
   "cell_type": "markdown",
   "metadata": {},
   "source": [
    "## 1. Importing libraries and understading the Dataset\n"
   ]
  },
  {
   "cell_type": "code",
   "execution_count": 1,
   "metadata": {},
   "outputs": [],
   "source": [
    "import pandas as pd\n",
    "import numpy as np\n",
    "import random\n",
    "from sklearn.model_selection import train_test_split\n",
    "from sklearn.feature_extraction.text import CountVectorizer, TfidfVectorizer\n",
    "from sklearn.metrics import f1_score\n",
    "import matplotlib.pyplot as plt\n",
    "from matplotlib.ticker import FuncFormatter\n",
    "import seaborn as sns\n",
    "from io import StringIO\n",
    "%matplotlib inline\n",
    "\n",
    "import json"
   ]
  },
  {
   "cell_type": "code",
   "execution_count": 2,
   "metadata": {},
   "outputs": [
    {
     "data": {
      "text/html": [
       "<div>\n",
       "<style scoped>\n",
       "    .dataframe tbody tr th:only-of-type {\n",
       "        vertical-align: middle;\n",
       "    }\n",
       "\n",
       "    .dataframe tbody tr th {\n",
       "        vertical-align: top;\n",
       "    }\n",
       "\n",
       "    .dataframe thead th {\n",
       "        text-align: right;\n",
       "    }\n",
       "</style>\n",
       "<table border=\"1\" class=\"dataframe\">\n",
       "  <thead>\n",
       "    <tr style=\"text-align: right;\">\n",
       "      <th></th>\n",
       "      <th>aircraft_tail</th>\n",
       "      <th>aircraft_msn</th>\n",
       "      <th>fault_source</th>\n",
       "      <th>deferral_reference</th>\n",
       "      <th>deferral_class</th>\n",
       "      <th>logbook_type</th>\n",
       "      <th>event_type</th>\n",
       "      <th>event_status</th>\n",
       "      <th>fault_name</th>\n",
       "      <th>description</th>\n",
       "      <th>...</th>\n",
       "      <th>fleet</th>\n",
       "      <th>actual_end_date</th>\n",
       "      <th>fleet_type</th>\n",
       "      <th>fleet_holding</th>\n",
       "      <th>extended_due_date</th>\n",
       "      <th>condicion_mapi</th>\n",
       "      <th>causa</th>\n",
       "      <th>type</th>\n",
       "      <th>type_latam</th>\n",
       "      <th>fault_count</th>\n",
       "    </tr>\n",
       "  </thead>\n",
       "  <tbody>\n",
       "    <tr>\n",
       "      <th>0</th>\n",
       "      <td>PR-MYC</td>\n",
       "      <td>3733</td>\n",
       "      <td>PILOT</td>\n",
       "      <td>27-00-01A</td>\n",
       "      <td>MEL C</td>\n",
       "      <td>MAINT</td>\n",
       "      <td>CF</td>\n",
       "      <td>CFCERT</td>\n",
       "      <td>COND PUSHBBUTTON LIGHT ON ECAM CTL PNL INOPERA...</td>\n",
       "      <td>&lt;b&gt;&lt;u&gt;REINALDO DE ALMEIDA BARBOSA 28-MAR-2018 ...</td>\n",
       "      <td>...</td>\n",
       "      <td>A320FAM</td>\n",
       "      <td>08/04/2018 08:16</td>\n",
       "      <td>NB</td>\n",
       "      <td>BR</td>\n",
       "      <td>07/04/2018 23:59</td>\n",
       "      <td>LIMPIO</td>\n",
       "      <td>#NOME?</td>\n",
       "      <td>TECH</td>\n",
       "      <td>TECH</td>\n",
       "      <td>FAULT</td>\n",
       "    </tr>\n",
       "    <tr>\n",
       "      <th>1</th>\n",
       "      <td>PR-MHP</td>\n",
       "      <td>3266</td>\n",
       "      <td>MECH</td>\n",
       "      <td>36-00-01A</td>\n",
       "      <td>MEL C</td>\n",
       "      <td>MAINT</td>\n",
       "      <td>CF</td>\n",
       "      <td>CFCERT</td>\n",
       "      <td>AIR BLEED MAINTENANCE MESSAGE ON THE STATUS PA...</td>\n",
       "      <td>AIR BLEED MAINTENANCE MESSAGE  ON THE STATUS ...</td>\n",
       "      <td>...</td>\n",
       "      <td>A320FAM</td>\n",
       "      <td>22/12/2018 07:00</td>\n",
       "      <td>NB</td>\n",
       "      <td>BR</td>\n",
       "      <td>21/12/2018 23:59</td>\n",
       "      <td>LIMPIO</td>\n",
       "      <td>#NOME?</td>\n",
       "      <td>TECH</td>\n",
       "      <td>TECH</td>\n",
       "      <td>REPEATED</td>\n",
       "    </tr>\n",
       "    <tr>\n",
       "      <th>2</th>\n",
       "      <td>PT-MXQ</td>\n",
       "      <td>6165</td>\n",
       "      <td>PILOT</td>\n",
       "      <td>74-31-01A</td>\n",
       "      <td>MEL C</td>\n",
       "      <td>MAINT</td>\n",
       "      <td>CF</td>\n",
       "      <td>CFCERT</td>\n",
       "      <td>ENG 1 IGN A FAULT DURING ENG START. IGNITION S...</td>\n",
       "      <td>NaN</td>\n",
       "      <td>...</td>\n",
       "      <td>A320FAM</td>\n",
       "      <td>04/01/2019 20:11</td>\n",
       "      <td>NB</td>\n",
       "      <td>BR</td>\n",
       "      <td>14/01/2019 23:59</td>\n",
       "      <td>LIMPIO</td>\n",
       "      <td>#NOME?</td>\n",
       "      <td>TECH</td>\n",
       "      <td>TECH</td>\n",
       "      <td>REPEATED</td>\n",
       "    </tr>\n",
       "    <tr>\n",
       "      <th>3</th>\n",
       "      <td>PR-MAK</td>\n",
       "      <td>1825</td>\n",
       "      <td>PILOT</td>\n",
       "      <td>21-26-01A</td>\n",
       "      <td>MEL C</td>\n",
       "      <td>CABIN</td>\n",
       "      <td>CF</td>\n",
       "      <td>CFCERT</td>\n",
       "      <td>VENT BLOWER FAULT AVIONICS EQUIPMENT VENTILATION</td>\n",
       "      <td>VENT BLOWER FAULT</td>\n",
       "      <td>...</td>\n",
       "      <td>A320FAM</td>\n",
       "      <td>23/09/2019 06:00</td>\n",
       "      <td>NB</td>\n",
       "      <td>BR</td>\n",
       "      <td>30/09/2019 23:59</td>\n",
       "      <td>LIMPIO</td>\n",
       "      <td>#NOME?</td>\n",
       "      <td>TECH</td>\n",
       "      <td>TECH</td>\n",
       "      <td>REPEATED</td>\n",
       "    </tr>\n",
       "    <tr>\n",
       "      <th>4</th>\n",
       "      <td>PT-MZY</td>\n",
       "      <td>1628</td>\n",
       "      <td>MECH</td>\n",
       "      <td>33-01-01-01A</td>\n",
       "      <td>MEL C</td>\n",
       "      <td>MAINT</td>\n",
       "      <td>CF</td>\n",
       "      <td>CFCERT</td>\n",
       "      <td>ANN LT TEST SWITCH DOES NOT CHANGE LIGHT INTEN...</td>\n",
       "      <td>ANN LT TEST SWITCH DOES NOT CHANGE LIGHT INTEN...</td>\n",
       "      <td>...</td>\n",
       "      <td>A320FAM</td>\n",
       "      <td>11/02/2019 06:39</td>\n",
       "      <td>NB</td>\n",
       "      <td>BR</td>\n",
       "      <td>20/02/2019 23:59</td>\n",
       "      <td>LIMPIO</td>\n",
       "      <td>#NOME?</td>\n",
       "      <td>TECH</td>\n",
       "      <td>TECH</td>\n",
       "      <td>FAULT</td>\n",
       "    </tr>\n",
       "  </tbody>\n",
       "</table>\n",
       "<p>5 rows × 41 columns</p>\n",
       "</div>"
      ],
      "text/plain": [
       "  aircraft_tail  aircraft_msn fault_source deferral_reference deferral_class  \\\n",
       "0        PR-MYC          3733        PILOT          27-00-01A          MEL C   \n",
       "1        PR-MHP          3266         MECH          36-00-01A          MEL C   \n",
       "2        PT-MXQ          6165        PILOT          74-31-01A          MEL C   \n",
       "3        PR-MAK          1825        PILOT          21-26-01A          MEL C   \n",
       "4        PT-MZY          1628         MECH       33-01-01-01A          MEL C   \n",
       "\n",
       "  logbook_type event_type event_status  \\\n",
       "0        MAINT         CF       CFCERT   \n",
       "1        MAINT         CF       CFCERT   \n",
       "2        MAINT         CF       CFCERT   \n",
       "3        CABIN         CF       CFCERT   \n",
       "4        MAINT         CF       CFCERT   \n",
       "\n",
       "                                          fault_name  \\\n",
       "0  COND PUSHBBUTTON LIGHT ON ECAM CTL PNL INOPERA...   \n",
       "1  AIR BLEED MAINTENANCE MESSAGE ON THE STATUS PA...   \n",
       "2  ENG 1 IGN A FAULT DURING ENG START. IGNITION S...   \n",
       "3   VENT BLOWER FAULT AVIONICS EQUIPMENT VENTILATION   \n",
       "4  ANN LT TEST SWITCH DOES NOT CHANGE LIGHT INTEN...   \n",
       "\n",
       "                                         description  ...    fleet  \\\n",
       "0  <b><u>REINALDO DE ALMEIDA BARBOSA 28-MAR-2018 ...  ...  A320FAM   \n",
       "1   AIR BLEED MAINTENANCE MESSAGE  ON THE STATUS ...  ...  A320FAM   \n",
       "2                                                NaN  ...  A320FAM   \n",
       "3                                 VENT BLOWER FAULT   ...  A320FAM   \n",
       "4  ANN LT TEST SWITCH DOES NOT CHANGE LIGHT INTEN...  ...  A320FAM   \n",
       "\n",
       "    actual_end_date fleet_type fleet_holding  extended_due_date  \\\n",
       "0  08/04/2018 08:16         NB            BR   07/04/2018 23:59   \n",
       "1  22/12/2018 07:00         NB            BR   21/12/2018 23:59   \n",
       "2  04/01/2019 20:11         NB            BR   14/01/2019 23:59   \n",
       "3  23/09/2019 06:00         NB            BR   30/09/2019 23:59   \n",
       "4  11/02/2019 06:39         NB            BR   20/02/2019 23:59   \n",
       "\n",
       "  condicion_mapi   causa  type type_latam fault_count  \n",
       "0         LIMPIO  #NOME?  TECH       TECH       FAULT  \n",
       "1         LIMPIO  #NOME?  TECH       TECH    REPEATED  \n",
       "2         LIMPIO  #NOME?  TECH       TECH    REPEATED  \n",
       "3         LIMPIO  #NOME?  TECH       TECH    REPEATED  \n",
       "4         LIMPIO  #NOME?  TECH       TECH       FAULT  \n",
       "\n",
       "[5 rows x 41 columns]"
      ]
     },
     "execution_count": 2,
     "metadata": {},
     "output_type": "execute_result"
    }
   ],
   "source": [
    "df = pd.read_csv(r'C:\\Users\\4222416\\Downloads\\A320_dataset.csv',encoding='latin-1', delimiter=';')\n",
    "\n",
    "df.head()"
   ]
  },
  {
   "cell_type": "code",
   "execution_count": 3,
   "metadata": {
    "scrolled": true
   },
   "outputs": [
    {
     "name": "stdout",
     "output_type": "stream",
     "text": [
      "<class 'pandas.core.frame.DataFrame'>\n",
      "RangeIndex: 22904 entries, 0 to 22903\n",
      "Data columns (total 41 columns):\n",
      " #   Column                            Non-Null Count  Dtype  \n",
      "---  ------                            --------------  -----  \n",
      " 0   aircraft_tail                     22904 non-null  object \n",
      " 1   aircraft_msn                      22904 non-null  int64  \n",
      " 2   fault_source                      22904 non-null  object \n",
      " 3   deferral_reference                22896 non-null  object \n",
      " 4   deferral_class                    22904 non-null  object \n",
      " 5   logbook_type                      20279 non-null  object \n",
      " 6   event_type                        22904 non-null  object \n",
      " 7   event_status                      22904 non-null  object \n",
      " 8   fault_name                        22904 non-null  object \n",
      " 9   description                       22129 non-null  object \n",
      " 10  creation_date                     22904 non-null  object \n",
      " 11  found_on_date                     22904 non-null  object \n",
      " 12  workpackage_name                  22904 non-null  object \n",
      " 13  complete_date                     22904 non-null  object \n",
      " 14  life_time                         22904 non-null  int64  \n",
      " 15  barcode                           22904 non-null  object \n",
      " 16  corrective_action                 22839 non-null  object \n",
      " 17  task_status                       22904 non-null  object \n",
      " 18  workpackage_scheduled_start_date  22904 non-null  object \n",
      " 19  workpackage_actual_start_date     22904 non-null  object \n",
      " 20  found_during_flight               20544 non-null  object \n",
      " 21  flight_arrival_airport            20544 non-null  object \n",
      " 22  fault_due_date                    22902 non-null  object \n",
      " 23  aircraft_assembly                 22904 non-null  object \n",
      " 24  ata_2d                            22904 non-null  int64  \n",
      " 25  ata_4d                            22904 non-null  int64  \n",
      " 26  ata_6d                            22904 non-null  int64  \n",
      " 27  config_slot_details               22904 non-null  object \n",
      " 28  moc                               2 non-null      float64\n",
      " 29  maintenance_airline_code          22904 non-null  object \n",
      " 30  maintenance_airline_code_group    22904 non-null  object \n",
      " 31  fleet                             22904 non-null  object \n",
      " 32  actual_end_date                   22904 non-null  object \n",
      " 33  fleet_type                        22904 non-null  object \n",
      " 34  fleet_holding                     22904 non-null  object \n",
      " 35  extended_due_date                 22902 non-null  object \n",
      " 36  condicion_mapi                    22904 non-null  object \n",
      " 37  causa                             22904 non-null  object \n",
      " 38  type                              22904 non-null  object \n",
      " 39  type_latam                        22904 non-null  object \n",
      " 40  fault_count                       22904 non-null  object \n",
      "dtypes: float64(1), int64(5), object(35)\n",
      "memory usage: 7.2+ MB\n"
     ]
    }
   ],
   "source": [
    "df.info()"
   ]
  },
  {
   "cell_type": "code",
   "execution_count": 4,
   "metadata": {},
   "outputs": [
    {
     "data": {
      "text/html": [
       "<div>\n",
       "<style scoped>\n",
       "    .dataframe tbody tr th:only-of-type {\n",
       "        vertical-align: middle;\n",
       "    }\n",
       "\n",
       "    .dataframe tbody tr th {\n",
       "        vertical-align: top;\n",
       "    }\n",
       "\n",
       "    .dataframe thead th {\n",
       "        text-align: right;\n",
       "    }\n",
       "</style>\n",
       "<table border=\"1\" class=\"dataframe\">\n",
       "  <thead>\n",
       "    <tr style=\"text-align: right;\">\n",
       "      <th></th>\n",
       "      <th>aircraft_msn</th>\n",
       "      <th>life_time</th>\n",
       "      <th>ata_2d</th>\n",
       "      <th>ata_4d</th>\n",
       "      <th>ata_6d</th>\n",
       "      <th>moc</th>\n",
       "    </tr>\n",
       "  </thead>\n",
       "  <tbody>\n",
       "    <tr>\n",
       "      <th>count</th>\n",
       "      <td>22904.000000</td>\n",
       "      <td>22904.000000</td>\n",
       "      <td>22904.000000</td>\n",
       "      <td>22904.000000</td>\n",
       "      <td>22904.000000</td>\n",
       "      <td>2.000000</td>\n",
       "    </tr>\n",
       "    <tr>\n",
       "      <th>mean</th>\n",
       "      <td>3891.533313</td>\n",
       "      <td>4.230091</td>\n",
       "      <td>32.480265</td>\n",
       "      <td>3280.736116</td>\n",
       "      <td>328075.341774</td>\n",
       "      <td>423337.000000</td>\n",
       "    </tr>\n",
       "    <tr>\n",
       "      <th>std</th>\n",
       "      <td>1793.776241</td>\n",
       "      <td>22.683919</td>\n",
       "      <td>12.135907</td>\n",
       "      <td>1207.507920</td>\n",
       "      <td>120750.060475</td>\n",
       "      <td>109378.105341</td>\n",
       "    </tr>\n",
       "    <tr>\n",
       "      <th>min</th>\n",
       "      <td>1143.000000</td>\n",
       "      <td>-22.000000</td>\n",
       "      <td>0.000000</td>\n",
       "      <td>40.000000</td>\n",
       "      <td>4000.000000</td>\n",
       "      <td>345995.000000</td>\n",
       "    </tr>\n",
       "    <tr>\n",
       "      <th>25%</th>\n",
       "      <td>1891.000000</td>\n",
       "      <td>1.000000</td>\n",
       "      <td>25.000000</td>\n",
       "      <td>2518.000000</td>\n",
       "      <td>251800.000000</td>\n",
       "      <td>384666.000000</td>\n",
       "    </tr>\n",
       "    <tr>\n",
       "      <th>50%</th>\n",
       "      <td>3662.000000</td>\n",
       "      <td>3.000000</td>\n",
       "      <td>32.000000</td>\n",
       "      <td>3242.000000</td>\n",
       "      <td>324200.000000</td>\n",
       "      <td>423337.000000</td>\n",
       "    </tr>\n",
       "    <tr>\n",
       "      <th>75%</th>\n",
       "      <td>5345.000000</td>\n",
       "      <td>5.000000</td>\n",
       "      <td>35.000000</td>\n",
       "      <td>3530.000000</td>\n",
       "      <td>353000.000000</td>\n",
       "      <td>462008.000000</td>\n",
       "    </tr>\n",
       "    <tr>\n",
       "      <th>max</th>\n",
       "      <td>9324.000000</td>\n",
       "      <td>2924.000000</td>\n",
       "      <td>80.000000</td>\n",
       "      <td>8013.000000</td>\n",
       "      <td>801300.000000</td>\n",
       "      <td>500679.000000</td>\n",
       "    </tr>\n",
       "  </tbody>\n",
       "</table>\n",
       "</div>"
      ],
      "text/plain": [
       "       aircraft_msn     life_time        ata_2d        ata_4d         ata_6d  \\\n",
       "count  22904.000000  22904.000000  22904.000000  22904.000000   22904.000000   \n",
       "mean    3891.533313      4.230091     32.480265   3280.736116  328075.341774   \n",
       "std     1793.776241     22.683919     12.135907   1207.507920  120750.060475   \n",
       "min     1143.000000    -22.000000      0.000000     40.000000    4000.000000   \n",
       "25%     1891.000000      1.000000     25.000000   2518.000000  251800.000000   \n",
       "50%     3662.000000      3.000000     32.000000   3242.000000  324200.000000   \n",
       "75%     5345.000000      5.000000     35.000000   3530.000000  353000.000000   \n",
       "max     9324.000000   2924.000000     80.000000   8013.000000  801300.000000   \n",
       "\n",
       "                 moc  \n",
       "count       2.000000  \n",
       "mean   423337.000000  \n",
       "std    109378.105341  \n",
       "min    345995.000000  \n",
       "25%    384666.000000  \n",
       "50%    423337.000000  \n",
       "75%    462008.000000  \n",
       "max    500679.000000  "
      ]
     },
     "execution_count": 4,
     "metadata": {},
     "output_type": "execute_result"
    }
   ],
   "source": [
    "df.describe()"
   ]
  },
  {
   "cell_type": "markdown",
   "metadata": {},
   "source": [
    "## 2. Data Preparation"
   ]
  },
  {
   "cell_type": "markdown",
   "metadata": {},
   "source": [
    "#### Check and impute missing values"
   ]
  },
  {
   "cell_type": "code",
   "execution_count": 5,
   "metadata": {},
   "outputs": [
    {
     "name": "stdout",
     "output_type": "stream",
     "text": [
      "Your selected dataframe has 41 columns.\n",
      "There are 9 columns that have missing values.\n"
     ]
    },
    {
     "data": {
      "text/html": [
       "<div>\n",
       "<style scoped>\n",
       "    .dataframe tbody tr th:only-of-type {\n",
       "        vertical-align: middle;\n",
       "    }\n",
       "\n",
       "    .dataframe tbody tr th {\n",
       "        vertical-align: top;\n",
       "    }\n",
       "\n",
       "    .dataframe thead th {\n",
       "        text-align: right;\n",
       "    }\n",
       "</style>\n",
       "<table border=\"1\" class=\"dataframe\">\n",
       "  <thead>\n",
       "    <tr style=\"text-align: right;\">\n",
       "      <th></th>\n",
       "      <th>Missing Values</th>\n",
       "      <th>% of Total Values</th>\n",
       "    </tr>\n",
       "  </thead>\n",
       "  <tbody>\n",
       "    <tr>\n",
       "      <th>moc</th>\n",
       "      <td>22902</td>\n",
       "      <td>100.0</td>\n",
       "    </tr>\n",
       "    <tr>\n",
       "      <th>logbook_type</th>\n",
       "      <td>2625</td>\n",
       "      <td>11.5</td>\n",
       "    </tr>\n",
       "    <tr>\n",
       "      <th>found_during_flight</th>\n",
       "      <td>2360</td>\n",
       "      <td>10.3</td>\n",
       "    </tr>\n",
       "    <tr>\n",
       "      <th>flight_arrival_airport</th>\n",
       "      <td>2360</td>\n",
       "      <td>10.3</td>\n",
       "    </tr>\n",
       "    <tr>\n",
       "      <th>description</th>\n",
       "      <td>775</td>\n",
       "      <td>3.4</td>\n",
       "    </tr>\n",
       "    <tr>\n",
       "      <th>corrective_action</th>\n",
       "      <td>65</td>\n",
       "      <td>0.3</td>\n",
       "    </tr>\n",
       "    <tr>\n",
       "      <th>deferral_reference</th>\n",
       "      <td>8</td>\n",
       "      <td>0.0</td>\n",
       "    </tr>\n",
       "    <tr>\n",
       "      <th>fault_due_date</th>\n",
       "      <td>2</td>\n",
       "      <td>0.0</td>\n",
       "    </tr>\n",
       "    <tr>\n",
       "      <th>extended_due_date</th>\n",
       "      <td>2</td>\n",
       "      <td>0.0</td>\n",
       "    </tr>\n",
       "  </tbody>\n",
       "</table>\n",
       "</div>"
      ],
      "text/plain": [
       "                        Missing Values  % of Total Values\n",
       "moc                              22902              100.0\n",
       "logbook_type                      2625               11.5\n",
       "found_during_flight               2360               10.3\n",
       "flight_arrival_airport            2360               10.3\n",
       "description                        775                3.4\n",
       "corrective_action                   65                0.3\n",
       "deferral_reference                   8                0.0\n",
       "fault_due_date                       2                0.0\n",
       "extended_due_date                    2                0.0"
      ]
     },
     "execution_count": 5,
     "metadata": {},
     "output_type": "execute_result"
    }
   ],
   "source": [
    "def missing_values_table(df):\n",
    "    '''\n",
    "    Input - Dataframe that has all relevant variables for consideration.\n",
    "    \n",
    "    Output - Displays the total number of variables/columns in the dataset. In addition, it also \n",
    "    generates count of missing values for each column.\n",
    "    \n",
    "    '''    \n",
    "    mis_val = df.isnull().sum()\n",
    "    mis_val_percent = 100 * df.isnull().sum() / len(df)\n",
    "    mis_val_table = pd.concat([mis_val, mis_val_percent], axis=1)\n",
    "    mis_val_table_ren_columns = mis_val_table.rename(\n",
    "    columns = {0 : 'Missing Values', 1 : '% of Total Values'})\n",
    "    mis_val_table_ren_columns = mis_val_table_ren_columns[\n",
    "    mis_val_table_ren_columns.iloc[:,1] != 0].sort_values(\n",
    "    '% of Total Values', ascending=False).round(1)\n",
    "    print (\"Your selected dataframe has \" + str(df.shape[1]) + \" columns.\\n\"      \n",
    "    \"There are \" + str(mis_val_table_ren_columns.shape[0]) +\n",
    "    \" columns that have missing values.\")\n",
    "    return mis_val_table_ren_columns\n",
    "    \n",
    "df_qa=missing_values_table(df)\n",
    "df_qa"
   ]
  },
  {
   "cell_type": "markdown",
   "metadata": {},
   "source": [
    "#### Data Cleaning: The columns below don't presented any relevant information to our analysis"
   ]
  },
  {
   "cell_type": "code",
   "execution_count": 6,
   "metadata": {},
   "outputs": [
    {
     "data": {
      "text/html": [
       "<div>\n",
       "<style scoped>\n",
       "    .dataframe tbody tr th:only-of-type {\n",
       "        vertical-align: middle;\n",
       "    }\n",
       "\n",
       "    .dataframe tbody tr th {\n",
       "        vertical-align: top;\n",
       "    }\n",
       "\n",
       "    .dataframe thead th {\n",
       "        text-align: right;\n",
       "    }\n",
       "</style>\n",
       "<table border=\"1\" class=\"dataframe\">\n",
       "  <thead>\n",
       "    <tr style=\"text-align: right;\">\n",
       "      <th></th>\n",
       "      <th>aircraft_tail</th>\n",
       "      <th>fault_source</th>\n",
       "      <th>deferral_class</th>\n",
       "      <th>logbook_type</th>\n",
       "      <th>event_status</th>\n",
       "      <th>fault_name</th>\n",
       "      <th>description</th>\n",
       "      <th>creation_date</th>\n",
       "      <th>found_on_date</th>\n",
       "      <th>complete_date</th>\n",
       "      <th>...</th>\n",
       "      <th>corrective_action</th>\n",
       "      <th>task_status</th>\n",
       "      <th>flight_arrival_airport</th>\n",
       "      <th>fault_due_date</th>\n",
       "      <th>ata_2d</th>\n",
       "      <th>ata_4d</th>\n",
       "      <th>ata_6d</th>\n",
       "      <th>fleet</th>\n",
       "      <th>actual_end_date</th>\n",
       "      <th>extended_due_date</th>\n",
       "    </tr>\n",
       "  </thead>\n",
       "  <tbody>\n",
       "    <tr>\n",
       "      <th>0</th>\n",
       "      <td>PR-MYC</td>\n",
       "      <td>PILOT</td>\n",
       "      <td>MEL C</td>\n",
       "      <td>MAINT</td>\n",
       "      <td>CFCERT</td>\n",
       "      <td>COND PUSHBBUTTON LIGHT ON ECAM CTL PNL INOPERA...</td>\n",
       "      <td>&lt;b&gt;&lt;u&gt;REINALDO DE ALMEIDA BARBOSA 28-MAR-2018 ...</td>\n",
       "      <td>28/03/2018</td>\n",
       "      <td>28/03/2018</td>\n",
       "      <td>08/04/2018</td>\n",
       "      <td>...</td>\n",
       "      <td>7665744.  2018-04-03 04:48:45  NO SPARE TOOL...</td>\n",
       "      <td>COMPLETE</td>\n",
       "      <td>SDU</td>\n",
       "      <td>07/04/2018 23:59</td>\n",
       "      <td>27</td>\n",
       "      <td>2792</td>\n",
       "      <td>279200</td>\n",
       "      <td>A320FAM</td>\n",
       "      <td>08/04/2018 08:16</td>\n",
       "      <td>07/04/2018 23:59</td>\n",
       "    </tr>\n",
       "    <tr>\n",
       "      <th>1</th>\n",
       "      <td>PR-MHP</td>\n",
       "      <td>MECH</td>\n",
       "      <td>MEL C</td>\n",
       "      <td>MAINT</td>\n",
       "      <td>CFCERT</td>\n",
       "      <td>AIR BLEED MAINTENANCE MESSAGE ON THE STATUS PA...</td>\n",
       "      <td>AIR BLEED MAINTENANCE MESSAGE  ON THE STATUS ...</td>\n",
       "      <td>11/12/2018</td>\n",
       "      <td>11/12/2018</td>\n",
       "      <td>22/12/2018</td>\n",
       "      <td>...</td>\n",
       "      <td>8639210.  2018-12-20 06:25:36  TAREFA NÃO RE...</td>\n",
       "      <td>COMPLETE</td>\n",
       "      <td>GRU</td>\n",
       "      <td>21/12/2018 23:59</td>\n",
       "      <td>36</td>\n",
       "      <td>3611</td>\n",
       "      <td>361100</td>\n",
       "      <td>A320FAM</td>\n",
       "      <td>22/12/2018 07:00</td>\n",
       "      <td>21/12/2018 23:59</td>\n",
       "    </tr>\n",
       "    <tr>\n",
       "      <th>2</th>\n",
       "      <td>PT-MXQ</td>\n",
       "      <td>PILOT</td>\n",
       "      <td>MEL C</td>\n",
       "      <td>MAINT</td>\n",
       "      <td>CFCERT</td>\n",
       "      <td>ENG 1 IGN A FAULT DURING ENG START. IGNITION S...</td>\n",
       "      <td>NaN</td>\n",
       "      <td>04/01/2019</td>\n",
       "      <td>04/01/2019</td>\n",
       "      <td>04/01/2019</td>\n",
       "      <td>...</td>\n",
       "      <td>8691543.  2019-01-04 20:12:40  item foi lanç...</td>\n",
       "      <td>COMPLETE</td>\n",
       "      <td>GRU</td>\n",
       "      <td>14/01/2019 23:59</td>\n",
       "      <td>74</td>\n",
       "      <td>7431</td>\n",
       "      <td>743100</td>\n",
       "      <td>A320FAM</td>\n",
       "      <td>04/01/2019 20:11</td>\n",
       "      <td>14/01/2019 23:59</td>\n",
       "    </tr>\n",
       "    <tr>\n",
       "      <th>3</th>\n",
       "      <td>PR-MAK</td>\n",
       "      <td>PILOT</td>\n",
       "      <td>MEL C</td>\n",
       "      <td>CABIN</td>\n",
       "      <td>CFCERT</td>\n",
       "      <td>VENT BLOWER FAULT AVIONICS EQUIPMENT VENTILATION</td>\n",
       "      <td>VENT BLOWER FAULT</td>\n",
       "      <td>20/09/2019</td>\n",
       "      <td>20/09/2019</td>\n",
       "      <td>23/09/2019</td>\n",
       "      <td>...</td>\n",
       "      <td>9754356.  2019-09-22 04:04:32  TAREFA PARALI...</td>\n",
       "      <td>COMPLETE</td>\n",
       "      <td>LDB</td>\n",
       "      <td>30/09/2019 23:59</td>\n",
       "      <td>21</td>\n",
       "      <td>2126</td>\n",
       "      <td>212600</td>\n",
       "      <td>A320FAM</td>\n",
       "      <td>23/09/2019 06:00</td>\n",
       "      <td>30/09/2019 23:59</td>\n",
       "    </tr>\n",
       "    <tr>\n",
       "      <th>4</th>\n",
       "      <td>PT-MZY</td>\n",
       "      <td>MECH</td>\n",
       "      <td>MEL C</td>\n",
       "      <td>MAINT</td>\n",
       "      <td>CFCERT</td>\n",
       "      <td>ANN LT TEST SWITCH DOES NOT CHANGE LIGHT INTEN...</td>\n",
       "      <td>ANN LT TEST SWITCH DOES NOT CHANGE LIGHT INTEN...</td>\n",
       "      <td>10/02/2019</td>\n",
       "      <td>10/02/2019</td>\n",
       "      <td>11/02/2019</td>\n",
       "      <td>...</td>\n",
       "      <td>8835307.  2019-02-11 06:39:39  LABOR    8835...</td>\n",
       "      <td>COMPLETE</td>\n",
       "      <td>NaN</td>\n",
       "      <td>20/02/2019 23:59</td>\n",
       "      <td>33</td>\n",
       "      <td>3314</td>\n",
       "      <td>331400</td>\n",
       "      <td>A320FAM</td>\n",
       "      <td>11/02/2019 06:39</td>\n",
       "      <td>20/02/2019 23:59</td>\n",
       "    </tr>\n",
       "  </tbody>\n",
       "</table>\n",
       "<p>5 rows × 22 columns</p>\n",
       "</div>"
      ],
      "text/plain": [
       "  aircraft_tail fault_source deferral_class logbook_type event_status  \\\n",
       "0        PR-MYC        PILOT          MEL C        MAINT       CFCERT   \n",
       "1        PR-MHP         MECH          MEL C        MAINT       CFCERT   \n",
       "2        PT-MXQ        PILOT          MEL C        MAINT       CFCERT   \n",
       "3        PR-MAK        PILOT          MEL C        CABIN       CFCERT   \n",
       "4        PT-MZY         MECH          MEL C        MAINT       CFCERT   \n",
       "\n",
       "                                          fault_name  \\\n",
       "0  COND PUSHBBUTTON LIGHT ON ECAM CTL PNL INOPERA...   \n",
       "1  AIR BLEED MAINTENANCE MESSAGE ON THE STATUS PA...   \n",
       "2  ENG 1 IGN A FAULT DURING ENG START. IGNITION S...   \n",
       "3   VENT BLOWER FAULT AVIONICS EQUIPMENT VENTILATION   \n",
       "4  ANN LT TEST SWITCH DOES NOT CHANGE LIGHT INTEN...   \n",
       "\n",
       "                                         description creation_date  \\\n",
       "0  <b><u>REINALDO DE ALMEIDA BARBOSA 28-MAR-2018 ...    28/03/2018   \n",
       "1   AIR BLEED MAINTENANCE MESSAGE  ON THE STATUS ...    11/12/2018   \n",
       "2                                                NaN    04/01/2019   \n",
       "3                                 VENT BLOWER FAULT     20/09/2019   \n",
       "4  ANN LT TEST SWITCH DOES NOT CHANGE LIGHT INTEN...    10/02/2019   \n",
       "\n",
       "  found_on_date complete_date  ...  \\\n",
       "0    28/03/2018    08/04/2018  ...   \n",
       "1    11/12/2018    22/12/2018  ...   \n",
       "2    04/01/2019    04/01/2019  ...   \n",
       "3    20/09/2019    23/09/2019  ...   \n",
       "4    10/02/2019    11/02/2019  ...   \n",
       "\n",
       "                                   corrective_action task_status  \\\n",
       "0    7665744.  2018-04-03 04:48:45  NO SPARE TOOL...    COMPLETE   \n",
       "1    8639210.  2018-12-20 06:25:36  TAREFA NÃO RE...    COMPLETE   \n",
       "2    8691543.  2019-01-04 20:12:40  item foi lanç...    COMPLETE   \n",
       "3    9754356.  2019-09-22 04:04:32  TAREFA PARALI...    COMPLETE   \n",
       "4    8835307.  2019-02-11 06:39:39  LABOR    8835...    COMPLETE   \n",
       "\n",
       "  flight_arrival_airport    fault_due_date ata_2d ata_4d  ata_6d    fleet  \\\n",
       "0                    SDU  07/04/2018 23:59     27   2792  279200  A320FAM   \n",
       "1                    GRU  21/12/2018 23:59     36   3611  361100  A320FAM   \n",
       "2                    GRU  14/01/2019 23:59     74   7431  743100  A320FAM   \n",
       "3                    LDB  30/09/2019 23:59     21   2126  212600  A320FAM   \n",
       "4                    NaN  20/02/2019 23:59     33   3314  331400  A320FAM   \n",
       "\n",
       "    actual_end_date extended_due_date  \n",
       "0  08/04/2018 08:16  07/04/2018 23:59  \n",
       "1  22/12/2018 07:00  21/12/2018 23:59  \n",
       "2  04/01/2019 20:11  14/01/2019 23:59  \n",
       "3  23/09/2019 06:00  30/09/2019 23:59  \n",
       "4  11/02/2019 06:39  20/02/2019 23:59  \n",
       "\n",
       "[5 rows x 22 columns]"
      ]
     },
     "execution_count": 6,
     "metadata": {},
     "output_type": "execute_result"
    }
   ],
   "source": [
    "df=df.drop(['aircraft_msn','workpackage_name','workpackage_scheduled_start_date','workpackage_actual_start_date','causa','fault_count','condicion_mapi','deferral_reference','event_type','found_during_flight','aircraft_assembly','config_slot_details','maintenance_airline_code','maintenance_airline_code_group','fleet_type','fleet_holding','type','type_latam','moc'],axis=1)\n",
    "df.head()"
   ]
  },
  {
   "cell_type": "markdown",
   "metadata": {},
   "source": [
    "## 3. Exploratory Data Analysis"
   ]
  },
  {
   "cell_type": "markdown",
   "metadata": {},
   "source": [
    "### Questions"
   ]
  },
  {
   "cell_type": "markdown",
   "metadata": {},
   "source": [
    "The exploratory data analysis will help us understand some key figures points about the business without running any model. Many actions can be generated based only on a good analysis and data visualization to mitigate problems that are already happening.\n",
    "\n",
    "\n",
    "1. Which aircraft had the most faults?\n",
    "2. How many faults generated a AOG(Aircraft on Ground)?\n",
    "3. Which ATA has more faults?\n",
    "4. Which day had the most faults executed?"
   ]
  },
  {
   "cell_type": "markdown",
   "metadata": {},
   "source": [
    "#### 1. Which aircraft had the most faults?"
   ]
  },
  {
   "cell_type": "code",
   "execution_count": 7,
   "metadata": {},
   "outputs": [
    {
     "data": {
      "text/html": [
       "<div>\n",
       "<style scoped>\n",
       "    .dataframe tbody tr th:only-of-type {\n",
       "        vertical-align: middle;\n",
       "    }\n",
       "\n",
       "    .dataframe tbody tr th {\n",
       "        vertical-align: top;\n",
       "    }\n",
       "\n",
       "    .dataframe thead th {\n",
       "        text-align: right;\n",
       "    }\n",
       "</style>\n",
       "<table border=\"1\" class=\"dataframe\">\n",
       "  <thead>\n",
       "    <tr style=\"text-align: right;\">\n",
       "      <th></th>\n",
       "      <th>aircraft_tail</th>\n",
       "      <th>faults</th>\n",
       "    </tr>\n",
       "  </thead>\n",
       "  <tbody>\n",
       "    <tr>\n",
       "      <th>6</th>\n",
       "      <td>PR-MAN</td>\n",
       "      <td>288</td>\n",
       "    </tr>\n",
       "    <tr>\n",
       "      <th>32</th>\n",
       "      <td>PR-MHK</td>\n",
       "      <td>275</td>\n",
       "    </tr>\n",
       "    <tr>\n",
       "      <th>100</th>\n",
       "      <td>PT-MZG</td>\n",
       "      <td>268</td>\n",
       "    </tr>\n",
       "    <tr>\n",
       "      <th>15</th>\n",
       "      <td>PR-MBG</td>\n",
       "      <td>267</td>\n",
       "    </tr>\n",
       "    <tr>\n",
       "      <th>38</th>\n",
       "      <td>PR-MHW</td>\n",
       "      <td>264</td>\n",
       "    </tr>\n",
       "    <tr>\n",
       "      <th>...</th>\n",
       "      <td>...</td>\n",
       "      <td>...</td>\n",
       "    </tr>\n",
       "    <tr>\n",
       "      <th>75</th>\n",
       "      <td>PR-TYT</td>\n",
       "      <td>14</td>\n",
       "    </tr>\n",
       "    <tr>\n",
       "      <th>82</th>\n",
       "      <td>PR-XBE</td>\n",
       "      <td>13</td>\n",
       "    </tr>\n",
       "    <tr>\n",
       "      <th>76</th>\n",
       "      <td>PR-TYU</td>\n",
       "      <td>2</td>\n",
       "    </tr>\n",
       "    <tr>\n",
       "      <th>77</th>\n",
       "      <td>PR-TYV</td>\n",
       "      <td>1</td>\n",
       "    </tr>\n",
       "    <tr>\n",
       "      <th>83</th>\n",
       "      <td>PR-XBF</td>\n",
       "      <td>1</td>\n",
       "    </tr>\n",
       "  </tbody>\n",
       "</table>\n",
       "<p>134 rows × 2 columns</p>\n",
       "</div>"
      ],
      "text/plain": [
       "    aircraft_tail  faults\n",
       "6          PR-MAN     288\n",
       "32         PR-MHK     275\n",
       "100        PT-MZG     268\n",
       "15         PR-MBG     267\n",
       "38         PR-MHW     264\n",
       "..            ...     ...\n",
       "75         PR-TYT      14\n",
       "82         PR-XBE      13\n",
       "76         PR-TYU       2\n",
       "77         PR-TYV       1\n",
       "83         PR-XBF       1\n",
       "\n",
       "[134 rows x 2 columns]"
      ]
     },
     "execution_count": 7,
     "metadata": {},
     "output_type": "execute_result"
    }
   ],
   "source": [
    "# Which aircraft had the most faults?\n",
    "dff = df.groupby('aircraft_tail') \\\n",
    "       .agg({'barcode':'count'}) \\\n",
    "       .rename(columns={'barcode':'faults'}) \\\n",
    "       .reset_index()\n",
    "faults_per_acft = dff.sort_values('faults', ascending = False)\n",
    "faults_per_acft"
   ]
  },
  {
   "cell_type": "code",
   "execution_count": 8,
   "metadata": {},
   "outputs": [
    {
     "data": {
      "text/plain": [
       "Text(0.5, 1.0, 'Faults x Age')"
      ]
     },
     "execution_count": 8,
     "metadata": {},
     "output_type": "execute_result"
    },
    {
     "data": {
      "image/png": "[encoded data removed]",
      "text/plain": [
       "<Figure size 432x288 with 1 Axes>"
      ]
     },
     "metadata": {
      "needs_background": "light"
     },
     "output_type": "display_data"
    }
   ],
   "source": [
    "faults_per_acft[:20].plot(kind='barh', x='aircraft_tail')\n",
    "plt.gca().invert_yaxis()\n",
    "plt.title('Faults x Age')\n"
   ]
  },
  {
   "cell_type": "markdown",
   "metadata": {},
   "source": [
    "Here we can see a huge difference between the aircrafts. This analysis can lead us to a closer approach with the engineering team to discover some technical patterns in the worst aircrafts."
   ]
  },
  {
   "cell_type": "markdown",
   "metadata": {},
   "source": [
    "#### 2. How many faults generated a AOG(Aircraft on Ground)?"
   ]
  },
  {
   "cell_type": "code",
   "execution_count": 9,
   "metadata": {},
   "outputs": [
    {
     "data": {
      "text/plain": [
       "life_time\n",
       "-22         1\n",
       " 0       1413\n",
       " 1       4600\n",
       " 2       4738\n",
       " 3       3158\n",
       "         ... \n",
       " 366        1\n",
       " 379        1\n",
       " 511        1\n",
       " 1472       1\n",
       " 2924       1\n",
       "Name: barcode, Length: 79, dtype: int64"
      ]
     },
     "execution_count": 9,
     "metadata": {},
     "output_type": "execute_result"
    },
    {
     "data": {
      "image/png": "[encoded data removed]",
      "text/plain": [
       "<Figure size 432x288 with 1 Axes>"
      ]
     },
     "metadata": {
      "needs_background": "light"
     },
     "output_type": "display_data"
    }
   ],
   "source": [
    "# How many faults generated a AOG(Aircraft on Ground)?\n",
    "fault_life_time = df.groupby(['life_time'])['barcode'].nunique()\n",
    "fault_life_time[:25].plot(kind='bar')\n",
    "plt.title('Faults Life Time')\n",
    "fault_life_time"
   ]
  },
  {
   "cell_type": "code",
   "execution_count": 10,
   "metadata": {},
   "outputs": [
    {
     "data": {
      "text/html": [
       "<div>\n",
       "<style scoped>\n",
       "    .dataframe tbody tr th:only-of-type {\n",
       "        vertical-align: middle;\n",
       "    }\n",
       "\n",
       "    .dataframe tbody tr th {\n",
       "        vertical-align: top;\n",
       "    }\n",
       "\n",
       "    .dataframe thead th {\n",
       "        text-align: right;\n",
       "    }\n",
       "</style>\n",
       "<table border=\"1\" class=\"dataframe\">\n",
       "  <thead>\n",
       "    <tr style=\"text-align: right;\">\n",
       "      <th></th>\n",
       "      <th>life_time</th>\n",
       "      <th>ata_2d</th>\n",
       "      <th>ata_4d</th>\n",
       "      <th>ata_6d</th>\n",
       "    </tr>\n",
       "  </thead>\n",
       "  <tbody>\n",
       "    <tr>\n",
       "      <th>count</th>\n",
       "      <td>2318.000000</td>\n",
       "      <td>2318.000000</td>\n",
       "      <td>2318.000000</td>\n",
       "      <td>2318.000000</td>\n",
       "    </tr>\n",
       "    <tr>\n",
       "      <th>mean</th>\n",
       "      <td>15.068594</td>\n",
       "      <td>34.453840</td>\n",
       "      <td>3475.299827</td>\n",
       "      <td>347531.434426</td>\n",
       "    </tr>\n",
       "    <tr>\n",
       "      <th>std</th>\n",
       "      <td>70.071546</td>\n",
       "      <td>14.900542</td>\n",
       "      <td>1484.790493</td>\n",
       "      <td>148478.517671</td>\n",
       "    </tr>\n",
       "    <tr>\n",
       "      <th>min</th>\n",
       "      <td>10.000000</td>\n",
       "      <td>5.000000</td>\n",
       "      <td>500.000000</td>\n",
       "      <td>50000.000000</td>\n",
       "    </tr>\n",
       "    <tr>\n",
       "      <th>25%</th>\n",
       "      <td>10.000000</td>\n",
       "      <td>25.000000</td>\n",
       "      <td>2520.000000</td>\n",
       "      <td>252000.000000</td>\n",
       "    </tr>\n",
       "    <tr>\n",
       "      <th>50%</th>\n",
       "      <td>11.000000</td>\n",
       "      <td>32.000000</td>\n",
       "      <td>3244.000000</td>\n",
       "      <td>324416.000000</td>\n",
       "    </tr>\n",
       "    <tr>\n",
       "      <th>75%</th>\n",
       "      <td>11.000000</td>\n",
       "      <td>36.000000</td>\n",
       "      <td>3611.000000</td>\n",
       "      <td>361100.000000</td>\n",
       "    </tr>\n",
       "    <tr>\n",
       "      <th>max</th>\n",
       "      <td>2924.000000</td>\n",
       "      <td>80.000000</td>\n",
       "      <td>8011.000000</td>\n",
       "      <td>801100.000000</td>\n",
       "    </tr>\n",
       "  </tbody>\n",
       "</table>\n",
       "</div>"
      ],
      "text/plain": [
       "         life_time       ata_2d       ata_4d         ata_6d\n",
       "count  2318.000000  2318.000000  2318.000000    2318.000000\n",
       "mean     15.068594    34.453840  3475.299827  347531.434426\n",
       "std      70.071546    14.900542  1484.790493  148478.517671\n",
       "min      10.000000     5.000000   500.000000   50000.000000\n",
       "25%      10.000000    25.000000  2520.000000  252000.000000\n",
       "50%      11.000000    32.000000  3244.000000  324416.000000\n",
       "75%      11.000000    36.000000  3611.000000  361100.000000\n",
       "max    2924.000000    80.000000  8011.000000  801100.000000"
      ]
     },
     "execution_count": 10,
     "metadata": {},
     "output_type": "execute_result"
    }
   ],
   "source": [
    "aog = df.loc[(df['life_time']) >= 10]\n",
    "aog.describe()"
   ]
  },
  {
   "cell_type": "markdown",
   "metadata": {},
   "source": [
    "2318 faults were executed after 10 days, generating a AOG(Aircraft on Ground)"
   ]
  },
  {
   "cell_type": "markdown",
   "metadata": {},
   "source": [
    "#### 3. Which ATA has more faults?"
   ]
  },
  {
   "cell_type": "markdown",
   "metadata": {},
   "source": [
    "ATA is a numbering system which is a common referencing standard for commercial aircraft documentation. This commonality permits greater ease of learning and understanding for pilots, aircraft maintenance technicians, and engineers alike. Analyzing the ATA will lead to know what system had more failures."
   ]
  },
  {
   "cell_type": "code",
   "execution_count": 11,
   "metadata": {},
   "outputs": [
    {
     "data": {
      "text/plain": [
       "Text(0.5, 1.0, 'Top 10 ATA')"
      ]
     },
     "execution_count": 11,
     "metadata": {},
     "output_type": "execute_result"
    },
    {
     "data": {
      "image/png": "[encoded data removed]",
      "text/plain": [
       "<Figure size 432x288 with 1 Axes>"
      ]
     },
     "metadata": {
      "needs_background": "light"
     },
     "output_type": "display_data"
    }
   ],
   "source": [
    "df_ata_2d = df.groupby('ata_2d') \\\n",
    "       .agg({'barcode':'count'}) \\\n",
    "       .rename(columns={'barcode':'faults'}) \\\n",
    "       .reset_index()\n",
    "df_ata_2d = df_ata_2d.sort_values('faults', ascending = False)\n",
    "df_ata_2d\n",
    "df_ata_2d[:10].plot(kind='bar', x='ata_2d')\n",
    "plt.title('Top 10 ATA')"
   ]
  },
  {
   "cell_type": "markdown",
   "metadata": {},
   "source": [
    "The ATA 33 which refers to LIGHTS had the most faults in 2019 and 2018."
   ]
  },
  {
   "cell_type": "markdown",
   "metadata": {},
   "source": [
    "#### 4. Which day had the most faults executed?"
   ]
  },
  {
   "cell_type": "code",
   "execution_count": 12,
   "metadata": {},
   "outputs": [
    {
     "name": "stdout",
     "output_type": "stream",
     "text": [
      "    complete_date  faults\n",
      "206    09/08/2019      60\n",
      "188    08/11/2019      57\n",
      "564    24/07/2019      55\n",
      "386    17/02/2019      53\n",
      "422    18/08/2019      53\n",
      "..            ...     ...\n",
      "417    18/06/2018      14\n",
      "362    16/02/2019      14\n",
      "129    06/06/2018      14\n",
      "21     01/12/2018      12\n",
      "116    05/11/2019      10\n",
      "\n",
      "[728 rows x 2 columns]\n"
     ]
    },
    {
     "data": {
      "image/png": "[encoded data removed]",
      "text/plain": [
       "<Figure size 432x288 with 1 Axes>"
      ]
     },
     "metadata": {
      "needs_background": "light"
     },
     "output_type": "display_data"
    }
   ],
   "source": [
    "df_month = df.groupby('complete_date') \\\n",
    "       .agg({'barcode':'count'}) \\\n",
    "       .rename(columns={'barcode':'faults'}) \\\n",
    "       .reset_index()\n",
    "df_month2 = df_month.sort_values('faults', ascending = False)\n",
    "df_month2\n",
    "df_month2[:10].plot(kind='bar', x='complete_date')\n",
    "plt.title('Execution Date')\n",
    "print(df_month2)"
   ]
  },
  {
   "cell_type": "markdown",
   "metadata": {},
   "source": [
    "## 4. Data Modeling"
   ]
  },
  {
   "cell_type": "markdown",
   "metadata": {},
   "source": [
    "To predict the criticality of a fault first it’s necessary to classify those tasks between: normal, risk and AOG. By default these aircrafts stop every 3 days to do maintenance checks, so if the fault was executed between 0 and 6 days, meaning between 1 and 2 stops, it’s considered a low risk fault. If the execution happened between 6 and 9 days after the opening, or 3 stops, it's a high risk fault. If the execution took more than 10 days it means that the fault had to be executed while the aircraft was unable to fly due to the brazilian regulation. The rule for this type of fault it’s that if it’s not executed after 10 days the aircraft must remain on ground. It doesn't matter if it's a broken seat or a passenger reading light that it´ s inoperative, the aircraft cannot perform any flight."
   ]
  },
  {
   "cell_type": "markdown",
   "metadata": {},
   "source": [
    "### 4.1 Creating a new column with fault criticality. ##"
   ]
  },
  {
   "cell_type": "code",
   "execution_count": 13,
   "metadata": {},
   "outputs": [],
   "source": [
    "# create a function to classify the criticality of the faults\n",
    "# if the fault was executed in 5 days or less it´s a normal life time, between 6 and 9 days it's risk, \n",
    "#after 10 days it means that the aircraft had to stay on the ground due to regulations\n",
    "\n",
    "def get_criticality(df):\n",
    "        if df['life_time'] <= 5:\n",
    "            return \"NORMAL\"\n",
    "        elif df['life_time'] > 5 and df['life_time'] < 10:\n",
    "            return \"RISK\"\n",
    "        else:\n",
    "            return \"AOG\""
   ]
  },
  {
   "cell_type": "code",
   "execution_count": 14,
   "metadata": {},
   "outputs": [],
   "source": [
    "#applying the function\n",
    "df['criticality'] = df.apply(get_criticality, axis = 1)"
   ]
  },
  {
   "cell_type": "code",
   "execution_count": 15,
   "metadata": {
    "scrolled": false
   },
   "outputs": [
    {
     "data": {
      "text/html": [
       "<div>\n",
       "<style scoped>\n",
       "    .dataframe tbody tr th:only-of-type {\n",
       "        vertical-align: middle;\n",
       "    }\n",
       "\n",
       "    .dataframe tbody tr th {\n",
       "        vertical-align: top;\n",
       "    }\n",
       "\n",
       "    .dataframe thead th {\n",
       "        text-align: right;\n",
       "    }\n",
       "</style>\n",
       "<table border=\"1\" class=\"dataframe\">\n",
       "  <thead>\n",
       "    <tr style=\"text-align: right;\">\n",
       "      <th></th>\n",
       "      <th>life_time</th>\n",
       "      <th>criticality</th>\n",
       "    </tr>\n",
       "  </thead>\n",
       "  <tbody>\n",
       "    <tr>\n",
       "      <th>1</th>\n",
       "      <td>11</td>\n",
       "      <td>AOG</td>\n",
       "    </tr>\n",
       "    <tr>\n",
       "      <th>2</th>\n",
       "      <td>0</td>\n",
       "      <td>NORMAL</td>\n",
       "    </tr>\n",
       "    <tr>\n",
       "      <th>3</th>\n",
       "      <td>3</td>\n",
       "      <td>NORMAL</td>\n",
       "    </tr>\n",
       "    <tr>\n",
       "      <th>4</th>\n",
       "      <td>1</td>\n",
       "      <td>NORMAL</td>\n",
       "    </tr>\n",
       "    <tr>\n",
       "      <th>5</th>\n",
       "      <td>11</td>\n",
       "      <td>AOG</td>\n",
       "    </tr>\n",
       "    <tr>\n",
       "      <th>28</th>\n",
       "      <td>4</td>\n",
       "      <td>NORMAL</td>\n",
       "    </tr>\n",
       "    <tr>\n",
       "      <th>2068</th>\n",
       "      <td>6</td>\n",
       "      <td>RISK</td>\n",
       "    </tr>\n",
       "  </tbody>\n",
       "</table>\n",
       "</div>"
      ],
      "text/plain": [
       "      life_time criticality\n",
       "1            11         AOG\n",
       "2             0      NORMAL\n",
       "3             3      NORMAL\n",
       "4             1      NORMAL\n",
       "5            11         AOG\n",
       "28            4      NORMAL\n",
       "2068          6        RISK"
      ]
     },
     "execution_count": 15,
     "metadata": {},
     "output_type": "execute_result"
    }
   ],
   "source": [
    "#check if the function is working correctly\n",
    "df.loc[[1,2,3,4,5,28,2068],['life_time','criticality']]"
   ]
  },
  {
   "cell_type": "markdown",
   "metadata": {},
   "source": [
    "### 4.2 Creating test and training sets"
   ]
  },
  {
   "cell_type": "code",
   "execution_count": 16,
   "metadata": {},
   "outputs": [
    {
     "data": {
      "text/plain": [
       "15345"
      ]
     },
     "execution_count": 16,
     "metadata": {},
     "output_type": "execute_result"
    }
   ],
   "source": [
    "training, test = train_test_split(df, test_size=0.33, random_state=42)\n",
    "\n",
    "len(training)"
   ]
  },
  {
   "cell_type": "code",
   "execution_count": 17,
   "metadata": {},
   "outputs": [
    {
     "data": {
      "text/plain": [
       "15345"
      ]
     },
     "execution_count": 17,
     "metadata": {},
     "output_type": "execute_result"
    }
   ],
   "source": [
    "train_x = training['fault_name']\n",
    "train_y = training['criticality']\n",
    "\n",
    "test_x = test['fault_name']\n",
    "test_y = test['criticality']\n",
    "\n",
    "len(train_x)"
   ]
  },
  {
   "cell_type": "code",
   "execution_count": 18,
   "metadata": {},
   "outputs": [
    {
     "name": "stdout",
     "output_type": "stream",
     "text": [
      "Training X Shape: (15345,)\n",
      "Training Y Shape: (15345,)\n",
      "Testing X Shape: (7559,)\n",
      "Testing Y Shape: (7559,)\n"
     ]
    }
   ],
   "source": [
    "print('Training X Shape:', train_x.shape)\n",
    "print('Training Y Shape:', train_y.shape)\n",
    "print('Testing X Shape:', test_x.shape)\n",
    "print('Testing Y Shape:', test_y.shape)"
   ]
  },
  {
   "cell_type": "markdown",
   "metadata": {},
   "source": [
    "### 4.3 Bag of Words Vectors ##"
   ]
  },
  {
   "cell_type": "code",
   "execution_count": 19,
   "metadata": {
    "scrolled": false
   },
   "outputs": [
    {
     "name": "stdout",
     "output_type": "stream",
     "text": [
      "LOUD VOISE EMISSION FROM ACP2 INT SWITCH SELECTED AND INT KNOB OUT OF MINIMUM SELECTION AUDIO MANAGEMENT (INTG/FLIGHT INTERPHONE/SELCAL/CA\n",
      "  (0, 6163)\t0.1597774066215752\n",
      "  (0, 11219)\t0.1597774066215752\n",
      "  (0, 8606)\t0.1533377011144036\n",
      "  (0, 7867)\t0.11512457202236617\n",
      "  (0, 8611)\t0.1596450428786298\n",
      "  (0, 9050)\t0.12982586976664048\n",
      "  (0, 4897)\t0.1478346339930078\n",
      "  (0, 11228)\t0.2565371925848028\n",
      "  (0, 9212)\t0.2565371925848028\n",
      "  (0, 9945)\t0.13338174664635957\n",
      "  (0, 10031)\t0.18006537625355873\n",
      "  (0, 8721)\t0.19536130814881406\n",
      "  (0, 11226)\t0.2352059188780734\n",
      "  (0, 11633)\t0.1892625077431572\n",
      "  (0, 8551)\t0.45426356768253934\n",
      "  (0, 4118)\t0.25360406728405316\n",
      "  (0, 7988)\t0.16528232902693793\n",
      "  (0, 7442)\t0.29358888109313397\n",
      "  (0, 12395)\t0.3060668763041899\n",
      "  (0, 8970)\t0.2295950599729458\n",
      "  (0, 4671)\t0.07912583628702338\n"
     ]
    }
   ],
   "source": [
    "# bag of words vectorization\n",
    "vectorizer = TfidfVectorizer()\n",
    "train_x_vectors = vectorizer.fit_transform(train_x)\n",
    "test_x_vectors = vectorizer.transform(test_x)\n",
    "\n",
    "print(train_x.iloc[1])\n",
    "print(train_x_vectors[1])\n",
    "\n"
   ]
  },
  {
   "cell_type": "markdown",
   "metadata": {},
   "source": [
    "## 4.3 Classification ##"
   ]
  },
  {
   "cell_type": "markdown",
   "metadata": {},
   "source": [
    "**1. Linear SVM**"
   ]
  },
  {
   "cell_type": "code",
   "execution_count": 20,
   "metadata": {},
   "outputs": [
    {
     "name": "stdout",
     "output_type": "stream",
     "text": [
      "COND PUSHBBUTTON LIGHT ON ECAM CTL PNL INOPERATIVE EISCONTROL\n"
     ]
    },
    {
     "data": {
      "text/plain": [
       "array(['NORMAL'], dtype=object)"
      ]
     },
     "execution_count": 20,
     "metadata": {},
     "output_type": "execute_result"
    }
   ],
   "source": [
    "from sklearn import svm\n",
    "\n",
    "clf_svm = svm.SVC(kernel = 'linear')\n",
    "clf_svm.fit(train_x_vectors, train_y)\n",
    "\n",
    "print(test_x[0])\n",
    "\n",
    "clf_svm.predict(test_x_vectors[0])"
   ]
  },
  {
   "cell_type": "markdown",
   "metadata": {},
   "source": [
    "**2. Decision Tree**"
   ]
  },
  {
   "cell_type": "code",
   "execution_count": 21,
   "metadata": {},
   "outputs": [
    {
     "data": {
      "text/plain": [
       "array(['NORMAL'], dtype=object)"
      ]
     },
     "execution_count": 21,
     "metadata": {},
     "output_type": "execute_result"
    }
   ],
   "source": [
    "from sklearn.tree import DecisionTreeClassifier\n",
    "\n",
    "clf_dec = DecisionTreeClassifier()\n",
    "clf_dec.fit(train_x_vectors, train_y)\n",
    "\n",
    "clf_dec.predict(test_x_vectors[2])\n",
    "\n",
    "##Dt_f1 = f1_score(test_y, clf_dec.predict(test_x_vectors), average=None)\n",
    "##Dt_f1"
   ]
  },
  {
   "cell_type": "markdown",
   "metadata": {},
   "source": [
    "**3. Naive Bayes**"
   ]
  },
  {
   "cell_type": "code",
   "execution_count": 22,
   "metadata": {},
   "outputs": [
    {
     "data": {
      "text/plain": [
       "array(['AOG', 'NORMAL', 'NORMAL', ..., 'RISK', 'NORMAL', 'RISK'],\n",
       "      dtype='<U6')"
      ]
     },
     "execution_count": 22,
     "metadata": {},
     "output_type": "execute_result"
    }
   ],
   "source": [
    "from sklearn.naive_bayes import GaussianNB\n",
    "#transform list into array\n",
    "X1 = train_x_vectors.toarray()\n",
    "\n",
    "clf_gnb = GaussianNB()\n",
    "\n",
    "clf_gnb.fit(X1, train_y)\n",
    "\n",
    "clf_gnb.predict(X1)"
   ]
  },
  {
   "cell_type": "markdown",
   "metadata": {},
   "source": [
    "**4. Logistic Regression**"
   ]
  },
  {
   "cell_type": "code",
   "execution_count": 23,
   "metadata": {},
   "outputs": [
    {
     "name": "stderr",
     "output_type": "stream",
     "text": [
      "C:\\Users\\4222416\\Anaconda3\\lib\\site-packages\\sklearn\\linear_model\\_logistic.py:762: ConvergenceWarning: lbfgs failed to converge (status=1):\n",
      "STOP: TOTAL NO. of ITERATIONS REACHED LIMIT.\n",
      "\n",
      "Increase the number of iterations (max_iter) or scale the data as shown in:\n",
      "    https://scikit-learn.org/stable/modules/preprocessing.html\n",
      "Please also refer to the documentation for alternative solver options:\n",
      "    https://scikit-learn.org/stable/modules/linear_model.html#logistic-regression\n",
      "  n_iter_i = _check_optimize_result(\n"
     ]
    },
    {
     "data": {
      "text/plain": [
       "array(['NORMAL'], dtype=object)"
      ]
     },
     "execution_count": 23,
     "metadata": {},
     "output_type": "execute_result"
    }
   ],
   "source": [
    "from sklearn.linear_model import LogisticRegression\n",
    "\n",
    "clf_log = LogisticRegression()\n",
    "clf_log.fit(train_x_vectors, train_y)\n",
    "\n",
    "clf_log.predict(test_x_vectors[2])\n"
   ]
  },
  {
   "cell_type": "markdown",
   "metadata": {},
   "source": [
    "**5. KNN Classifier**"
   ]
  },
  {
   "cell_type": "code",
   "execution_count": 24,
   "metadata": {},
   "outputs": [
    {
     "data": {
      "text/plain": [
       "array(['NORMAL'], dtype=object)"
      ]
     },
     "execution_count": 24,
     "metadata": {},
     "output_type": "execute_result"
    }
   ],
   "source": [
    "from sklearn.neighbors import KNeighborsClassifier\n",
    "\n",
    "knn = KNeighborsClassifier()\n",
    "knn.fit(train_x_vectors, train_y)\n",
    "knn.predict(test_x_vectors[2])"
   ]
  },
  {
   "cell_type": "markdown",
   "metadata": {},
   "source": [
    "# 5. Evaluating the predictions #"
   ]
  },
  {
   "cell_type": "code",
   "execution_count": 25,
   "metadata": {},
   "outputs": [
    {
     "name": "stdout",
     "output_type": "stream",
     "text": [
      "Accuracy of Linear SVM classifier on training set: 0.7674295541738325\n",
      "Accuracy of Decision Tree classifier on training set: 0.6662256912289986\n",
      "Accuracy of Logistic regression classifier on training set: 0.766371213123429\n",
      "Accuracy of KNN Classifier classifier on training set: 0.7317105437227146\n"
     ]
    }
   ],
   "source": [
    "# testing the models mean accuracy\n",
    "\n",
    "print(f'Accuracy of Linear SVM classifier on training set:', clf_svm.score(test_x_vectors, test_y))\n",
    "print(f'Accuracy of Decision Tree classifier on training set:', clf_dec.score(test_x_vectors, test_y))\n",
    "print(f'Accuracy of Logistic regression classifier on training set:', clf_log.score(test_x_vectors, test_y))\n",
    "print(f'Accuracy of KNN Classifier classifier on training set:', knn.score(test_x_vectors, test_y))"
   ]
  },
  {
   "cell_type": "code",
   "execution_count": 26,
   "metadata": {},
   "outputs": [
    {
     "name": "stdout",
     "output_type": "stream",
     "text": [
      "Prediction Accuracy of Linear SVM classifier: [0.03676471 0.86850796 0.        ]\n",
      "Prediction Accuracy of Decision Tree classifier: [0.16874136 0.80413064 0.14196479]\n",
      "Prediction Accuracy of Linear SVM classifier: [0.07251462 0.86825445 0.0040201 ]\n",
      "Prediction Accuracy of KNN Classifier classifier: [0.184      0.84946661 0.06760099]\n"
     ]
    }
   ],
   "source": [
    "# F1 scores\n",
    "from sklearn.metrics import f1_score\n",
    "\n",
    "print(f'Prediction Accuracy of Linear SVM classifier:',f1_score(test_y, clf_svm.predict(test_x_vectors), average=None,))\n",
    "print(f'Prediction Accuracy of Decision Tree classifier:',f1_score(test_y, clf_dec.predict(test_x_vectors), average=None,))\n",
    "print(f'Prediction Accuracy of Linear SVM classifier:',f1_score(test_y, clf_log.predict(test_x_vectors), average=None,))\n",
    "print(f'Prediction Accuracy of KNN Classifier classifier:',f1_score(test_y, knn.predict(test_x_vectors), average=None,))\n",
    "\n",
    "# as the F1 scores for all the models are pretty much the same we can assume that it is not a model issue, probably its a data issue"
   ]
  },
  {
   "cell_type": "code",
   "execution_count": 27,
   "metadata": {},
   "outputs": [
    {
     "name": "stdout",
     "output_type": "stream",
     "text": [
      "['NORMAL' 'NORMAL' 'NORMAL' 'NORMAL' 'NORMAL']\n",
      "['NORMAL' 'RISK' 'NORMAL' 'NORMAL' 'AOG']\n",
      "['NORMAL' 'NORMAL' 'NORMAL' 'NORMAL' 'NORMAL']\n",
      "['NORMAL' 'NORMAL' 'NORMAL' 'NORMAL' 'NORMAL']\n"
     ]
    }
   ],
   "source": [
    "# TESTING THE MODEL WITH NEW ENTRIES\n",
    "test_set = ['APU BLEED FORTE CHEIRO DE OLEO NA CABINE', 'AIR BLEED MAINTENANCE', 'L1 LIMOPS', 'AIR PACK', 'FADEC']\n",
    "new_test = vectorizer.transform(test_set)\n",
    "\n",
    "print(clf_svm.predict(new_test))\n",
    "print(clf_dec.predict(new_test))\n",
    "print(clf_log.predict(new_test))\n",
    "print(knn.predict(new_test))"
   ]
  },
  {
   "cell_type": "markdown",
   "metadata": {},
   "source": [
    "The Decision Tree classifier has the worse acurracy but presents better F1 results. As we test the models with new entries it's clear that all other models will probably predict new entries as \"normal\", but the decision tree model will better predict other categories. So due to the nature of the faults described in this dataset, it’s not possible to have a high prediction number for all categories, but being able to correctly predict 15% of high risk faults it's very valuable when it comes to making decisions on daily bases about the maintenance and resources of the company. Therefore in the next section we will perform some improvements on this model."
   ]
  },
  {
   "cell_type": "markdown",
   "metadata": {},
   "source": [
    "# 6. Tuning with GridSearch #"
   ]
  },
  {
   "cell_type": "markdown",
   "metadata": {},
   "source": [
    "### Checking the various parameters of Decision Tree"
   ]
  },
  {
   "cell_type": "code",
   "execution_count": 28,
   "metadata": {},
   "outputs": [
    {
     "data": {
      "text/plain": [
       "{'ccp_alpha': 0.0,\n",
       " 'class_weight': None,\n",
       " 'criterion': 'gini',\n",
       " 'max_depth': None,\n",
       " 'max_features': None,\n",
       " 'max_leaf_nodes': None,\n",
       " 'min_impurity_decrease': 0.0,\n",
       " 'min_impurity_split': None,\n",
       " 'min_samples_leaf': 1,\n",
       " 'min_samples_split': 2,\n",
       " 'min_weight_fraction_leaf': 0.0,\n",
       " 'presort': 'deprecated',\n",
       " 'random_state': None,\n",
       " 'splitter': 'best'}"
      ]
     },
     "execution_count": 28,
     "metadata": {},
     "output_type": "execute_result"
    }
   ],
   "source": [
    "clf_dec.get_params()"
   ]
  },
  {
   "cell_type": "markdown",
   "metadata": {},
   "source": [
    "### Using GridsearchCV to find the best parameters"
   ]
  },
  {
   "cell_type": "code",
   "execution_count": 29,
   "metadata": {},
   "outputs": [
    {
     "name": "stdout",
     "output_type": "stream",
     "text": [
      "Fitting 3 folds for each of 40 candidates, totalling 120 fits\n"
     ]
    },
    {
     "name": "stderr",
     "output_type": "stream",
     "text": [
      "[Parallel(n_jobs=1)]: Using backend SequentialBackend with 1 concurrent workers.\n",
      "[Parallel(n_jobs=1)]: Done 120 out of 120 | elapsed: 16.9min finished\n"
     ]
    },
    {
     "name": "stdout",
     "output_type": "stream",
     "text": [
      "Best Score: 74.60410557184751%.\n",
      "Best parameters: {'max_leaf_nodes': 80, 'min_samples_split': 2}\n"
     ]
    }
   ],
   "source": [
    "from sklearn.model_selection import GridSearchCV\n",
    "\n",
    "parameters = {'max_leaf_nodes': list(range(80, 100)), \n",
    "          'min_samples_split': [2, 3]}\n",
    "best_clf = GridSearchCV(DecisionTreeClassifier(random_state=42), parameters, verbose=1, cv=3)\n",
    "best_clf.fit(train_x_vectors, train_y)\n",
    "print(f'Best Score: {best_clf.best_score_*100}%.')\n",
    "print(f'Best parameters: {best_clf.best_params_}')"
   ]
  },
  {
   "cell_type": "markdown",
   "metadata": {},
   "source": [
    "After applying the tuning with GridSearch we gain 8% in accuracy when comparing with the original fitting, which is very good. "
   ]
  },
  {
   "cell_type": "markdown",
   "metadata": {},
   "source": [
    "## 7. Improvements"
   ]
  },
  {
   "cell_type": "markdown",
   "metadata": {},
   "source": [
    "To further improve this model we could collect more data from 2015 - 2017, look at more features to improve the training and test sets and in a different direction it's possible to initiate a project with the people responsible for the faults description, crew and maintenance, to perform a better and more concise input when opening a fault. This last option is more of a long term option, due to the fact that there are not many faults being opened due to the Covid-19 pandemic."
   ]
  },
  {
   "cell_type": "markdown",
   "metadata": {},
   "source": [
    "## 8. Conclusion"
   ]
  },
  {
   "cell_type": "markdown",
   "metadata": {},
   "source": [
    "In this project I analyzed and built a classifier model that predicted the criticality of aircrafts faults. The work began with some data cleaning, removing all the data that was unnecessary to our goal. Answering some business questions that can provide some insights to how the fleet behaved in the last years. And then the data preparation for the machine learning model. Dividing the data between normal, risk and aog faults to try to provide a prediction whether future tasks will generate risk to the operation. \n",
    "These fault’s descriptions didn´t provide much information about “risk” and “aog” criticality, where we could only predict around 15% in these categories. But in general it´s was possible to achieve a 76% of accuracy in this model. With the suggested improvements, in the model and in the process of inputting a description, it's possible to obtain a higher number of accuracy for each category. \n",
    "Overall when these models get to production and decisions start to be made by these results, the gain in avoiding delays and cancelled flights can be huge for the company.\n"
   ]
  },
  {
   "cell_type": "code",
   "execution_count": null,
   "metadata": {},
   "outputs": [],
   "source": []
  }
 ],
 "metadata": {
  "kernelspec": {
   "display_name": "Python 3",
   "language": "python",
   "name": "python3"
  },
  "language_info": {
   "codemirror_mode": {
    "name": "ipython",
    "version": 3
   },
   "file_extension": ".py",
   "mimetype": "text/x-python",
   "name": "python",
   "nbconvert_exporter": "python",
   "pygments_lexer": "ipython3",
   "version": "3.8.3"
  }
 },
 "nbformat": 4,
 "nbformat_minor": 4
}
